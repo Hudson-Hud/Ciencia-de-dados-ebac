{
 "cells": [
  {
   "cell_type": "code",
   "execution_count": 41,
   "id": "b65bd0f8",
   "metadata": {},
   "outputs": [],
   "source": [
    "# Importando as bibliotecas necessárias\n",
    "\n",
    "import numpy as np\n",
    "import pandas as pd\n",
    "import seaborn as sns\n",
    "import matplotlib.pyplot as plt\n",
    "\n",
    "from sklearn.tree import plot_tree\n",
    "from sklearn.tree import DecisionTreeClassifier\n",
    "\n",
    "\n",
    "from sklearn.metrics import accuracy_score\n",
    "from sklearn.metrics import confusion_matrix\n",
    "from sklearn.metrics import plot_confusion_matrix\n",
    "\n",
    "from sklearn.model_selection import train_test_split\n",
    "from sklearn.model_selection import cross_val_score"
   ]
  },
  {
   "cell_type": "code",
   "execution_count": 42,
   "id": "6b88f0ec",
   "metadata": {},
   "outputs": [
    {
     "data": {
      "text/html": [
       "<div>\n",
       "<style scoped>\n",
       "    .dataframe tbody tr th:only-of-type {\n",
       "        vertical-align: middle;\n",
       "    }\n",
       "\n",
       "    .dataframe tbody tr th {\n",
       "        vertical-align: top;\n",
       "    }\n",
       "\n",
       "    .dataframe thead th {\n",
       "        text-align: right;\n",
       "    }\n",
       "</style>\n",
       "<table border=\"1\" class=\"dataframe\">\n",
       "  <thead>\n",
       "    <tr style=\"text-align: right;\">\n",
       "      <th></th>\n",
       "      <th>Unnamed: 0</th>\n",
       "      <th>qtd_filhos</th>\n",
       "      <th>idade</th>\n",
       "      <th>tempo_emprego</th>\n",
       "      <th>possui_celular</th>\n",
       "      <th>possui_fone_comercial</th>\n",
       "      <th>possui_fone</th>\n",
       "      <th>possui_email</th>\n",
       "      <th>qt_pessoas_residencia</th>\n",
       "      <th>mau</th>\n",
       "      <th>...</th>\n",
       "      <th>educacao_Secondary / secondary special</th>\n",
       "      <th>estado_civil_Married</th>\n",
       "      <th>estado_civil_Separated</th>\n",
       "      <th>estado_civil_Single / not married</th>\n",
       "      <th>estado_civil_Widow</th>\n",
       "      <th>tipo_residencia_House / apartment</th>\n",
       "      <th>tipo_residencia_Municipal apartment</th>\n",
       "      <th>tipo_residencia_Office apartment</th>\n",
       "      <th>tipo_residencia_Rented apartment</th>\n",
       "      <th>tipo_residencia_With parents</th>\n",
       "    </tr>\n",
       "  </thead>\n",
       "  <tbody>\n",
       "    <tr>\n",
       "      <th>0</th>\n",
       "      <td>0</td>\n",
       "      <td>0</td>\n",
       "      <td>58.832877</td>\n",
       "      <td>3.106849</td>\n",
       "      <td>1</td>\n",
       "      <td>0</td>\n",
       "      <td>0</td>\n",
       "      <td>0</td>\n",
       "      <td>2.0</td>\n",
       "      <td>False</td>\n",
       "      <td>...</td>\n",
       "      <td>1</td>\n",
       "      <td>1</td>\n",
       "      <td>0</td>\n",
       "      <td>0</td>\n",
       "      <td>0</td>\n",
       "      <td>1</td>\n",
       "      <td>0</td>\n",
       "      <td>0</td>\n",
       "      <td>0</td>\n",
       "      <td>0</td>\n",
       "    </tr>\n",
       "    <tr>\n",
       "      <th>1</th>\n",
       "      <td>1</td>\n",
       "      <td>0</td>\n",
       "      <td>52.356164</td>\n",
       "      <td>8.358904</td>\n",
       "      <td>1</td>\n",
       "      <td>0</td>\n",
       "      <td>1</td>\n",
       "      <td>1</td>\n",
       "      <td>1.0</td>\n",
       "      <td>False</td>\n",
       "      <td>...</td>\n",
       "      <td>1</td>\n",
       "      <td>0</td>\n",
       "      <td>0</td>\n",
       "      <td>1</td>\n",
       "      <td>0</td>\n",
       "      <td>1</td>\n",
       "      <td>0</td>\n",
       "      <td>0</td>\n",
       "      <td>0</td>\n",
       "      <td>0</td>\n",
       "    </tr>\n",
       "    <tr>\n",
       "      <th>2</th>\n",
       "      <td>3</td>\n",
       "      <td>0</td>\n",
       "      <td>46.224658</td>\n",
       "      <td>2.106849</td>\n",
       "      <td>1</td>\n",
       "      <td>1</td>\n",
       "      <td>1</td>\n",
       "      <td>1</td>\n",
       "      <td>2.0</td>\n",
       "      <td>False</td>\n",
       "      <td>...</td>\n",
       "      <td>0</td>\n",
       "      <td>1</td>\n",
       "      <td>0</td>\n",
       "      <td>0</td>\n",
       "      <td>0</td>\n",
       "      <td>1</td>\n",
       "      <td>0</td>\n",
       "      <td>0</td>\n",
       "      <td>0</td>\n",
       "      <td>0</td>\n",
       "    </tr>\n",
       "    <tr>\n",
       "      <th>3</th>\n",
       "      <td>4</td>\n",
       "      <td>0</td>\n",
       "      <td>29.230137</td>\n",
       "      <td>3.021918</td>\n",
       "      <td>1</td>\n",
       "      <td>0</td>\n",
       "      <td>0</td>\n",
       "      <td>0</td>\n",
       "      <td>2.0</td>\n",
       "      <td>False</td>\n",
       "      <td>...</td>\n",
       "      <td>0</td>\n",
       "      <td>1</td>\n",
       "      <td>0</td>\n",
       "      <td>0</td>\n",
       "      <td>0</td>\n",
       "      <td>1</td>\n",
       "      <td>0</td>\n",
       "      <td>0</td>\n",
       "      <td>0</td>\n",
       "      <td>0</td>\n",
       "    </tr>\n",
       "    <tr>\n",
       "      <th>4</th>\n",
       "      <td>6</td>\n",
       "      <td>0</td>\n",
       "      <td>27.482192</td>\n",
       "      <td>4.024658</td>\n",
       "      <td>1</td>\n",
       "      <td>0</td>\n",
       "      <td>1</td>\n",
       "      <td>0</td>\n",
       "      <td>2.0</td>\n",
       "      <td>False</td>\n",
       "      <td>...</td>\n",
       "      <td>1</td>\n",
       "      <td>1</td>\n",
       "      <td>0</td>\n",
       "      <td>0</td>\n",
       "      <td>0</td>\n",
       "      <td>1</td>\n",
       "      <td>0</td>\n",
       "      <td>0</td>\n",
       "      <td>0</td>\n",
       "      <td>0</td>\n",
       "    </tr>\n",
       "    <tr>\n",
       "      <th>...</th>\n",
       "      <td>...</td>\n",
       "      <td>...</td>\n",
       "      <td>...</td>\n",
       "      <td>...</td>\n",
       "      <td>...</td>\n",
       "      <td>...</td>\n",
       "      <td>...</td>\n",
       "      <td>...</td>\n",
       "      <td>...</td>\n",
       "      <td>...</td>\n",
       "      <td>...</td>\n",
       "      <td>...</td>\n",
       "      <td>...</td>\n",
       "      <td>...</td>\n",
       "      <td>...</td>\n",
       "      <td>...</td>\n",
       "      <td>...</td>\n",
       "      <td>...</td>\n",
       "      <td>...</td>\n",
       "      <td>...</td>\n",
       "      <td>...</td>\n",
       "    </tr>\n",
       "    <tr>\n",
       "      <th>6765</th>\n",
       "      <td>16644</td>\n",
       "      <td>1</td>\n",
       "      <td>34.857534</td>\n",
       "      <td>3.101370</td>\n",
       "      <td>1</td>\n",
       "      <td>1</td>\n",
       "      <td>1</td>\n",
       "      <td>0</td>\n",
       "      <td>1.0</td>\n",
       "      <td>True</td>\n",
       "      <td>...</td>\n",
       "      <td>1</td>\n",
       "      <td>0</td>\n",
       "      <td>0</td>\n",
       "      <td>1</td>\n",
       "      <td>0</td>\n",
       "      <td>1</td>\n",
       "      <td>0</td>\n",
       "      <td>0</td>\n",
       "      <td>0</td>\n",
       "      <td>0</td>\n",
       "    </tr>\n",
       "    <tr>\n",
       "      <th>6766</th>\n",
       "      <td>16645</td>\n",
       "      <td>0</td>\n",
       "      <td>54.109589</td>\n",
       "      <td>9.884932</td>\n",
       "      <td>1</td>\n",
       "      <td>0</td>\n",
       "      <td>0</td>\n",
       "      <td>0</td>\n",
       "      <td>2.0</td>\n",
       "      <td>True</td>\n",
       "      <td>...</td>\n",
       "      <td>1</td>\n",
       "      <td>0</td>\n",
       "      <td>0</td>\n",
       "      <td>0</td>\n",
       "      <td>0</td>\n",
       "      <td>1</td>\n",
       "      <td>0</td>\n",
       "      <td>0</td>\n",
       "      <td>0</td>\n",
       "      <td>0</td>\n",
       "    </tr>\n",
       "    <tr>\n",
       "      <th>6767</th>\n",
       "      <td>16646</td>\n",
       "      <td>0</td>\n",
       "      <td>43.389041</td>\n",
       "      <td>7.380822</td>\n",
       "      <td>1</td>\n",
       "      <td>1</td>\n",
       "      <td>1</td>\n",
       "      <td>0</td>\n",
       "      <td>2.0</td>\n",
       "      <td>True</td>\n",
       "      <td>...</td>\n",
       "      <td>1</td>\n",
       "      <td>1</td>\n",
       "      <td>0</td>\n",
       "      <td>0</td>\n",
       "      <td>0</td>\n",
       "      <td>1</td>\n",
       "      <td>0</td>\n",
       "      <td>0</td>\n",
       "      <td>0</td>\n",
       "      <td>0</td>\n",
       "    </tr>\n",
       "    <tr>\n",
       "      <th>6768</th>\n",
       "      <td>16647</td>\n",
       "      <td>0</td>\n",
       "      <td>30.005479</td>\n",
       "      <td>9.800000</td>\n",
       "      <td>1</td>\n",
       "      <td>1</td>\n",
       "      <td>0</td>\n",
       "      <td>0</td>\n",
       "      <td>2.0</td>\n",
       "      <td>True</td>\n",
       "      <td>...</td>\n",
       "      <td>1</td>\n",
       "      <td>1</td>\n",
       "      <td>0</td>\n",
       "      <td>0</td>\n",
       "      <td>0</td>\n",
       "      <td>1</td>\n",
       "      <td>0</td>\n",
       "      <td>0</td>\n",
       "      <td>0</td>\n",
       "      <td>0</td>\n",
       "    </tr>\n",
       "    <tr>\n",
       "      <th>6769</th>\n",
       "      <td>16649</td>\n",
       "      <td>0</td>\n",
       "      <td>33.936986</td>\n",
       "      <td>3.630137</td>\n",
       "      <td>1</td>\n",
       "      <td>0</td>\n",
       "      <td>1</td>\n",
       "      <td>1</td>\n",
       "      <td>2.0</td>\n",
       "      <td>True</td>\n",
       "      <td>...</td>\n",
       "      <td>0</td>\n",
       "      <td>1</td>\n",
       "      <td>0</td>\n",
       "      <td>0</td>\n",
       "      <td>0</td>\n",
       "      <td>1</td>\n",
       "      <td>0</td>\n",
       "      <td>0</td>\n",
       "      <td>0</td>\n",
       "      <td>0</td>\n",
       "    </tr>\n",
       "  </tbody>\n",
       "</table>\n",
       "<p>6770 rows × 30 columns</p>\n",
       "</div>"
      ],
      "text/plain": [
       "      Unnamed: 0  qtd_filhos      idade  tempo_emprego  possui_celular  \\\n",
       "0              0           0  58.832877       3.106849               1   \n",
       "1              1           0  52.356164       8.358904               1   \n",
       "2              3           0  46.224658       2.106849               1   \n",
       "3              4           0  29.230137       3.021918               1   \n",
       "4              6           0  27.482192       4.024658               1   \n",
       "...          ...         ...        ...            ...             ...   \n",
       "6765       16644           1  34.857534       3.101370               1   \n",
       "6766       16645           0  54.109589       9.884932               1   \n",
       "6767       16646           0  43.389041       7.380822               1   \n",
       "6768       16647           0  30.005479       9.800000               1   \n",
       "6769       16649           0  33.936986       3.630137               1   \n",
       "\n",
       "      possui_fone_comercial  possui_fone  possui_email  qt_pessoas_residencia  \\\n",
       "0                         0            0             0                    2.0   \n",
       "1                         0            1             1                    1.0   \n",
       "2                         1            1             1                    2.0   \n",
       "3                         0            0             0                    2.0   \n",
       "4                         0            1             0                    2.0   \n",
       "...                     ...          ...           ...                    ...   \n",
       "6765                      1            1             0                    1.0   \n",
       "6766                      0            0             0                    2.0   \n",
       "6767                      1            1             0                    2.0   \n",
       "6768                      1            0             0                    2.0   \n",
       "6769                      0            1             1                    2.0   \n",
       "\n",
       "        mau  ...  educacao_Secondary / secondary special  \\\n",
       "0     False  ...                                       1   \n",
       "1     False  ...                                       1   \n",
       "2     False  ...                                       0   \n",
       "3     False  ...                                       0   \n",
       "4     False  ...                                       1   \n",
       "...     ...  ...                                     ...   \n",
       "6765   True  ...                                       1   \n",
       "6766   True  ...                                       1   \n",
       "6767   True  ...                                       1   \n",
       "6768   True  ...                                       1   \n",
       "6769   True  ...                                       0   \n",
       "\n",
       "      estado_civil_Married  estado_civil_Separated  \\\n",
       "0                        1                       0   \n",
       "1                        0                       0   \n",
       "2                        1                       0   \n",
       "3                        1                       0   \n",
       "4                        1                       0   \n",
       "...                    ...                     ...   \n",
       "6765                     0                       0   \n",
       "6766                     0                       0   \n",
       "6767                     1                       0   \n",
       "6768                     1                       0   \n",
       "6769                     1                       0   \n",
       "\n",
       "      estado_civil_Single / not married  estado_civil_Widow  \\\n",
       "0                                     0                   0   \n",
       "1                                     1                   0   \n",
       "2                                     0                   0   \n",
       "3                                     0                   0   \n",
       "4                                     0                   0   \n",
       "...                                 ...                 ...   \n",
       "6765                                  1                   0   \n",
       "6766                                  0                   0   \n",
       "6767                                  0                   0   \n",
       "6768                                  0                   0   \n",
       "6769                                  0                   0   \n",
       "\n",
       "      tipo_residencia_House / apartment  tipo_residencia_Municipal apartment  \\\n",
       "0                                     1                                    0   \n",
       "1                                     1                                    0   \n",
       "2                                     1                                    0   \n",
       "3                                     1                                    0   \n",
       "4                                     1                                    0   \n",
       "...                                 ...                                  ...   \n",
       "6765                                  1                                    0   \n",
       "6766                                  1                                    0   \n",
       "6767                                  1                                    0   \n",
       "6768                                  1                                    0   \n",
       "6769                                  1                                    0   \n",
       "\n",
       "      tipo_residencia_Office apartment  tipo_residencia_Rented apartment  \\\n",
       "0                                    0                                 0   \n",
       "1                                    0                                 0   \n",
       "2                                    0                                 0   \n",
       "3                                    0                                 0   \n",
       "4                                    0                                 0   \n",
       "...                                ...                               ...   \n",
       "6765                                 0                                 0   \n",
       "6766                                 0                                 0   \n",
       "6767                                 0                                 0   \n",
       "6768                                 0                                 0   \n",
       "6769                                 0                                 0   \n",
       "\n",
       "      tipo_residencia_With parents  \n",
       "0                                0  \n",
       "1                                0  \n",
       "2                                0  \n",
       "3                                0  \n",
       "4                                0  \n",
       "...                            ...  \n",
       "6765                             0  \n",
       "6766                             0  \n",
       "6767                             0  \n",
       "6768                             0  \n",
       "6769                             0  \n",
       "\n",
       "[6770 rows x 30 columns]"
      ]
     },
     "execution_count": 42,
     "metadata": {},
     "output_type": "execute_result"
    }
   ],
   "source": [
    "dados = pd.read_csv('variaveis_apropriadas.csv')\n",
    "dados"
   ]
  },
  {
   "cell_type": "markdown",
   "id": "11001a0e",
   "metadata": {},
   "source": [
    "# Módulo 07 - Tarefa 02\n",
    "\n",
    "#### 1) Carregue a base e garanta que a base está como deveria.\n",
    "\n",
    "Considere a base que você ajustou na lição passada. Carregue-a. Caso ainda haja alguma pendência, ajuste - lembre-se de que o scikitlearn não recebe variáveis em formato string, somente numéricas, e não aceita '*missings*'.\n",
    "\n",
    "- Separe 70% da base para treinamento e 30% para validação. Cada uma dessas partes terá dois objetos, um armazenando a variável resposta ```mau```e outro armazenando as variáveis explicativas (lembrando: sem variáveis string, já com as dummies)."
   ]
  },
  {
   "cell_type": "code",
   "execution_count": 43,
   "id": "9d965f22",
   "metadata": {},
   "outputs": [
    {
     "data": {
      "text/plain": [
       "Index(['Unnamed: 0', 'qtd_filhos', 'idade', 'tempo_emprego', 'possui_celular',\n",
       "       'possui_fone_comercial', 'possui_fone', 'possui_email',\n",
       "       'qt_pessoas_residencia', 'mau', 'sexo_M', 'posse_de_veiculo_Y',\n",
       "       'posse_de_imovel_Y', 'tipo_renda_Pensioner', 'tipo_renda_State servant',\n",
       "       'tipo_renda_Student', 'tipo_renda_Working', 'educacao_Higher education',\n",
       "       'educacao_Incomplete higher', 'educacao_Lower secondary',\n",
       "       'educacao_Secondary / secondary special', 'estado_civil_Married',\n",
       "       'estado_civil_Separated', 'estado_civil_Single / not married',\n",
       "       'estado_civil_Widow', 'tipo_residencia_House / apartment',\n",
       "       'tipo_residencia_Municipal apartment',\n",
       "       'tipo_residencia_Office apartment', 'tipo_residencia_Rented apartment',\n",
       "       'tipo_residencia_With parents'],\n",
       "      dtype='object')"
      ]
     },
     "execution_count": 43,
     "metadata": {},
     "output_type": "execute_result"
    }
   ],
   "source": [
    "# Vamos localizar onde está a coluna 'mau' pois ela é a nossa coluna de interesse. Ou seja, o nosso 'y'\n",
    "dados.columns"
   ]
  },
  {
   "cell_type": "markdown",
   "id": "1cfe57b9",
   "metadata": {},
   "source": [
    "Precisamos definir o nosso X e o nosso y para separar a base em porcentagens. Para o X vamospegar todas as linhase todas as colunas, menos a coluna 'mau'. Ela será o nosso y.\n",
    "\n",
    "Nesse caso a nossa coluna de interesse ('mau') é a nona"
   ]
  },
  {
   "cell_type": "code",
   "execution_count": 44,
   "id": "0a182870",
   "metadata": {},
   "outputs": [],
   "source": [
    "# Separar a variável resposta\n",
    "y = dados['mau']\n",
    "\n",
    "# Separar as variáveis explicativas\n",
    "X = dados.drop('mau', axis=1)\n",
    "\n",
    "# Dividir em treinamento e validação\n",
    "X_train, X_test, y_train, y_test = train_test_split(X, y, train_size=0.7)"
   ]
  },
  {
   "cell_type": "markdown",
   "id": "f5994bcc",
   "metadata": {},
   "source": [
    "#### 2) Vamos para o modelo:\n",
    "\n",
    "1. Defina um objeto com a função da árvore de decisão vista em aula.\n",
    "2. Treine o modelo com os dados que você separou para treinamento.\n",
    "3. Visualize a árvore. Talvez você queira aumentar um pouco a figura.\n",
    "4. Produza uma visualização da matriz de classificação (ou matriz de confusão) - coloque os rótulos como \"aprovados\" e \"reprovados\" - pois afinal de contas, são essas as decisões que se podem tomar com propostas de crédito.\n",
    "5. Calcule a acurácia na base de treinamento"
   ]
  },
  {
   "cell_type": "markdown",
   "id": "da4c1085",
   "metadata": {},
   "source": [
    "**Passo 1:** Definir um objeto com a função da árvore de decisão"
   ]
  },
  {
   "cell_type": "code",
   "execution_count": 45,
   "id": "b9e42fd3",
   "metadata": {},
   "outputs": [
    {
     "data": {
      "text/plain": [
       "DecisionTreeClassifier()"
      ]
     },
     "execution_count": 45,
     "metadata": {},
     "output_type": "execute_result"
    }
   ],
   "source": [
    "arvore = DecisionTreeClassifier()\n",
    "arvore"
   ]
  },
  {
   "cell_type": "markdown",
   "id": "d91e8ca6",
   "metadata": {},
   "source": [
    "**Passo 2:** Treinar o modelo com os dados de treinamento"
   ]
  },
  {
   "cell_type": "code",
   "execution_count": 46,
   "id": "8b58dfd1",
   "metadata": {},
   "outputs": [
    {
     "data": {
      "text/plain": [
       "DecisionTreeClassifier()"
      ]
     },
     "execution_count": 46,
     "metadata": {},
     "output_type": "execute_result"
    }
   ],
   "source": [
    "arvore.fit(X_train, y_train)\n",
    "arvore"
   ]
  },
  {
   "cell_type": "markdown",
   "id": "179f5d30",
   "metadata": {},
   "source": [
    "**Passo 3:** Vizualização da Árvore"
   ]
  },
  {
   "cell_type": "code",
   "execution_count": 47,
   "id": "ebb86700",
   "metadata": {},
   "outputs": [
    {
     "data": {
      "image/png": "[encoded data removed]",
      "text/plain": [
       "<Figure size 720x720 with 1 Axes>"
      ]
     },
     "metadata": {
      "needs_background": "light"
     },
     "output_type": "display_data"
    }
   ],
   "source": [
    "plt.figure(figsize=(10,10))\n",
    "plot_tree(arvore, feature_names=X.columns.tolist(), class_names=['aprovados', 'reprovados'], filled=True)\n",
    "plt.show()"
   ]
  },
  {
   "cell_type": "markdown",
   "id": "adc02fb9",
   "metadata": {},
   "source": [
    "**Passo 4:** Produzir uma visualização da matriz de classificação (ou matriz de confusão) - colocando os rótulos como \"aprovados\" e \"reprovados\""
   ]
  },
  {
   "cell_type": "code",
   "execution_count": 48,
   "id": "75f55838",
   "metadata": {},
   "outputs": [
    {
     "name": "stderr",
     "output_type": "stream",
     "text": [
      "C:\\Users\\hudle\\anaconda3\\lib\\site-packages\\sklearn\\utils\\deprecation.py:87: FutureWarning: Function plot_confusion_matrix is deprecated; Function `plot_confusion_matrix` is deprecated in 1.0 and will be removed in 1.2. Use one of the class methods: ConfusionMatrixDisplay.from_predictions or ConfusionMatrixDisplay.from_estimator.\n",
      "  warnings.warn(msg, category=FutureWarning)\n"
     ]
    },
    {
     "data": {
      "image/png": "[encoded data removed]",
      "text/plain": [
       "<Figure size 432x288 with 2 Axes>"
      ]
     },
     "metadata": {
      "needs_background": "light"
     },
     "output_type": "display_data"
    }
   ],
   "source": [
    "# Plotando a matriz de confusão\n",
    "cm = plot_confusion_matrix(arvore, X_test, y_test, display_labels=['aprovados', 'reprovados'], cmap=plt.cm.Blues)\n",
    "\n",
    "# Mostrando a visualização\n",
    "plt.show()"
   ]
  },
  {
   "cell_type": "markdown",
   "id": "76f285a6",
   "metadata": {},
   "source": [
    "**Passo 5:** Calcular a acurácia na base de **treinamento**"
   ]
  },
  {
   "cell_type": "code",
   "execution_count": 49,
   "id": "cc1d6cc7",
   "metadata": {},
   "outputs": [
    {
     "name": "stdout",
     "output_type": "stream",
     "text": [
      "A acurácia na base de treinamento foi de 1.00\n"
     ]
    }
   ],
   "source": [
    "y_pred = arvore.predict(X_train) # Fazer as previsões na base de treinamento\n",
    "acuracia = accuracy_score(y_train, y_pred) # Calcular a acurácia comparando as previsões com os valores reais\n",
    "print(f\"A acurácia na base de treinamento foi de {acuracia:.2f}\")"
   ]
  },
  {
   "cell_type": "markdown",
   "id": "de857e0f",
   "metadata": {},
   "source": [
    "**Observação super importante!**\n",
    "\n",
    "Se tivéssemos somente este resultado, poderiamos dizer tranquilamente que nosso modelo, muito provavelmente, estava com um overfitting já que tivamos 1.00 ou 100% de acurácia. O modelo estava muito bem para os dados de nossa base, mas provavelmente não se sairá bem para outra base. **Vamos testar isso nos próximos passos**"
   ]
  },
  {
   "cell_type": "markdown",
   "id": "c8c168e0",
   "metadata": {},
   "source": [
    "#### 3) Vamos avaliar o modelo na base de testes\n",
    "\n",
    "1. Classifique a base de teste de acordo com a árvore que você treinou no item 2.\n",
    "2. Produza a visualização da matriz de confusão para a base de teste.\n",
    "3. Calcule a acurácia da base de teste. Compare com a acurácia da base de treinamento.\n",
    "4. Treine uma nova árvore com número mínimo de observações por folha de 5 e máximo de profundidade de 10. Use o random_state = 123. Avalie a matriz de classificação. Observe a distribuição da predição - qual a proporção de proponentes foram classificados como 'maus'?\n",
    "5. Como ficaria a acurácia se você classificasse todos os contratos como 'bons'?"
   ]
  },
  {
   "cell_type": "markdown",
   "id": "d07a3603",
   "metadata": {},
   "source": [
    "**Passo 1** - Classifique a base de teste de acordo com a árvore que você treinou no item 2."
   ]
  },
  {
   "cell_type": "code",
   "execution_count": 50,
   "id": "9d26e100",
   "metadata": {},
   "outputs": [],
   "source": [
    "# Isso vai criar uma variável chamada y_pred_test que contém as previsões da árvore para a base de teste. \n",
    "# Você pode comparar essas previsões com os valores reais da variável resposta y_test para avaliar o desempenho da árvore\n",
    "\n",
    "y_pred_test = arvore.predict(X_test)\n",
    "\n"
   ]
  },
  {
   "cell_type": "markdown",
   "id": "5e8ba189",
   "metadata": {},
   "source": [
    "**Passo 2** - Produza a visualização da matriz de confusão para a base de teste"
   ]
  },
  {
   "cell_type": "code",
   "execution_count": 51,
   "id": "1001698a",
   "metadata": {},
   "outputs": [
    {
     "data": {
      "image/png": "[encoded data removed]",
      "text/plain": [
       "<Figure size 432x288 with 2 Axes>"
      ]
     },
     "metadata": {
      "needs_background": "light"
     },
     "output_type": "display_data"
    }
   ],
   "source": [
    "# Calcular a matriz de confusão\n",
    "cm = confusion_matrix(y_test, y_pred_test) \n",
    "ConfusionMatrixDisplay(confusion_matrix=cm, display_labels=[\"aprovados\", \"reprovados\"]).plot() \n",
    "\n",
    "# Gerar o gráfico\n",
    "plt.show()"
   ]
  },
  {
   "cell_type": "markdown",
   "id": "5a7fc189",
   "metadata": {},
   "source": [
    "**Passo 3** - Calcule a acurácia da base de teste. Compare com a acurácia da base de treinamento."
   ]
  },
  {
   "cell_type": "code",
   "execution_count": 52,
   "id": "9976fa80",
   "metadata": {},
   "outputs": [
    {
     "name": "stdout",
     "output_type": "stream",
     "text": [
      "0.9423929098966026\n",
      "1.0\n"
     ]
    }
   ],
   "source": [
    "from sklearn.metrics import accuracy_score\n",
    "\n",
    "# Calcular a acurácia da base de teste\n",
    "acuracia_test = accuracy_score(y_test, y_pred_test) # Calcular a acurácia da base de teste\n",
    "\n",
    "print(acuracia_test)\n",
    "\n",
    "\n",
    "# Para a base de treinamento é o mesmo somente mudando alguns parâmetros\n",
    "# Fazer as previsões na base de treinamento\n",
    "y_pred_train = arvore.predict(X_train) \n",
    "\n",
    "# Calcular a acurácia da base de treinamento\n",
    "acuracia_train = accuracy_score(y_train, y_pred_train)\n",
    "\n",
    "print(acuracia_train) \n"
   ]
  },
  {
   "cell_type": "markdown",
   "id": "dd6ddb38",
   "metadata": {},
   "source": [
    "#### Observação! Uma acurácia tão grande quer dizer que meu modelo acertou quase todas as previsões"
   ]
  },
  {
   "cell_type": "markdown",
   "id": "4663de9a",
   "metadata": {},
   "source": [
    "**Passo 4** - Treine uma nova árvore com número mínimo de observações por folha de 5 e máximo de profundidade de 10. Use o random_state = 123. Avalie a matriz de classificação. Observe a distribuição da predição - qual a proporção de proponentes foram classificados como 'maus'?."
   ]
  },
  {
   "cell_type": "code",
   "execution_count": 53,
   "id": "c6bb95ce",
   "metadata": {},
   "outputs": [
    {
     "name": "stdout",
     "output_type": "stream",
     "text": [
      "              precision    recall  f1-score   support\n",
      "\n",
      "       False       0.98      1.00      0.99      1955\n",
      "        True       0.95      0.51      0.67        76\n",
      "\n",
      "    accuracy                           0.98      2031\n",
      "   macro avg       0.97      0.76      0.83      2031\n",
      "weighted avg       0.98      0.98      0.98      2031\n",
      "\n",
      "False    1990\n",
      "True       41\n",
      "dtype: int64\n"
     ]
    }
   ],
   "source": [
    "# Para treinar uma nova árvore com número mínimo de observações por folha de 5 e máximo de profundidade de 10\n",
    "# Criando a nova árvore\n",
    "nova_arvore = DecisionTreeClassifier(min_samples_leaf=5, max_depth=10, random_state=123) \n",
    "\n",
    "\n",
    "# Vamos treinar a árvore\n",
    "nova_arvore.fit(X_train, y_train)\n",
    "\n",
    "\n",
    "# Vamos treinar uma nova árvore com os parâmetros especificados. usamos\n",
    "# as previsões na base de teste, porém, usamos a nova árvore e depois usamos a função classification_report \n",
    "# Para receber como argumentos os valores reais e as previsões da variável resposta. \n",
    "\n",
    "from sklearn.metrics import classification_report\n",
    "\n",
    "# Fazer as previsões na base de teste\n",
    "y_pred_nova = nova_arvore.predict(X_test)\n",
    "\n",
    "# Gerar o relatório de classificação\n",
    "relatorio = classification_report(y_test, y_pred_nova)\n",
    "\n",
    "print(relatorio)\n",
    "\n",
    "# Para observar a distribuição da predição,vamos usar a função value_counts, que recebe como argumento uma série de dados \n",
    "# e retorna a contagem de cada valor único. \n",
    "\n",
    "# Calcular a distribuição da predição\n",
    "distribuicao = pd.Series(y_pred_nova).value_counts()\n",
    "\n",
    "print(distribuicao) \n",
    "\n",
    "# Isso deve mostrar quantos foram classificados como ‘bons’ e quantos foram classificados como ‘maus’. \n",
    "# Podemos calcular a proporção de  classificados como ‘maus’ dividindo o número de previsões ‘maus’ pelo número total de previsões"
   ]
  },
  {
   "cell_type": "markdown",
   "id": "acaad46b",
   "metadata": {},
   "source": [
    "**Passo 5** - Como ficaria a acurácia se você classificasse todos os contratos como 'bons'?"
   ]
  },
  {
   "cell_type": "code",
   "execution_count": 54,
   "id": "1640822a",
   "metadata": {},
   "outputs": [
    {
     "name": "stdout",
     "output_type": "stream",
     "text": [
      "0.0\n",
      "0.9423929098966026\n"
     ]
    },
    {
     "name": "stderr",
     "output_type": "stream",
     "text": [
      "C:\\Users\\hudle\\anaconda3\\lib\\site-packages\\sklearn\\metrics\\_classification.py:217: FutureWarning: elementwise comparison failed; returning scalar instead, but in the future will perform elementwise comparison\n",
      "  score = y_true == y_pred\n"
     ]
    }
   ],
   "source": [
    "# Criar um array com todos os valores 'bom'\n",
    "y_pred_todos_bons = np.repeat('bom', len(y_test))\n",
    "\n",
    "# Calcular a acurácia entre esse array e o y_test\n",
    "acuracia_todos_bons = accuracy_score(y_test, y_pred_todos_bons)\n",
    "\n",
    "# Mostrar o valor da acurácia\n",
    "print(acuracia_todos_bons)\n",
    "\n",
    "# Comparar com a acurácia do seu modelo\n",
    "print(acuracia_test)\n"
   ]
  }
 ],
 "metadata": {
  "kernelspec": {
   "display_name": "Python 3 (ipykernel)",
   "language": "python",
   "name": "python3"
  },
  "language_info": {
   "codemirror_mode": {
    "name": "ipython",
    "version": 3
   },
   "file_extension": ".py",
   "mimetype": "text/x-python",
   "name": "python",
   "nbconvert_exporter": "python",
   "pygments_lexer": "ipython3",
   "version": "3.9.12"
  }
 },
 "nbformat": 4,
 "nbformat_minor": 5
}

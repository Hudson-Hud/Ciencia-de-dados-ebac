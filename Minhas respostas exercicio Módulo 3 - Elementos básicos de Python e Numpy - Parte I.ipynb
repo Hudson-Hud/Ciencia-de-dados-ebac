{
  "cells": [
    {
      "cell_type": "markdown",
      "metadata": {
        "id": "puxEuV_8mivP"
      },
      "source": [
        "# Tarefa 01\n",
        "\n",
        "- Leia os enunciados com atenção\n",
        "- Saiba que pode haver mais de uma resposta correta\n",
        "- Insira novas células de código sempre que achar necessário\n",
        "- Em caso de dúvidas, procure os tutores\n",
        "- Divirta-se :)"
      ]
    },
    {
      "cell_type": "markdown",
      "metadata": {
        "id": "_m2pt5B1mivQ"
      },
      "source": [
        "### 01 - Teste de gravidez\n",
        "Escreva uma célula com controle de fluxos que tem como premissa a existência das seguintes variáveis:\n",
        "\n",
        "- ```sexo``` como ```str``` indicando os valores '**M**' para masculino e '**F**' para feminino  \n",
        "- ```beta_hcg``` que indica a quantidade do beta-HCG no sangue em mUI/mL.\n",
        "\n",
        "A sua tarefa é escrever um código que imprima como resultado \"indivíduo do sexo masculino\" quando sexo = 'M', caso sexo = 'F', se o valor de beta-HCG for maior que 5, retorne \"Positivo\" indicando que a paciente está grávida, e retorne \"Negativo\" caso contrário.\n",
        "\n",
        "Não mexa nos valores da variável ```sexo``` nem em ```beta_hcg```, e escreva um código que funcione para quaisquer valores possíveis de ambos: ```sexo``` = '**M**' ou '**F**' e ```beta_hcg``` assumindo valores inteiros positivos."
      ]
    },
    {
      "cell_type": "code",
      "execution_count": null,
      "metadata": {
        "colab": {
          "base_uri": "https://localhost:8080/"
        },
        "id": "6uO-_0fimivR",
        "outputId": "475a305a-cbcf-47c4-8ad7-7b2e6eed7bdf"
      },
      "outputs": [
        {
          "output_type": "stream",
          "name": "stdout",
          "text": [
            "-=-=-=-=-=-=-=-=-=-= MÁQUINA DE ANÁLISE - TESTE DE GRAVIDEZ -=-=-=-=-=-=-=-=-=-=\n",
            "Qual o sexo da pessoa analisada: m\n",
            "O indivíduo analisado é do sexo \",MASCULINO\", portanto não se mede o beta-HCG\n",
            "-=-=-=-=-=-=-=-=-=-=-=-=-=-=-=-=-=-=-=-=-=-=-=-=-=-=-=-=-=-=\n",
            "Quer continuar com o teste? \n",
            "Digite SIM para continuar e NÃO para parar: sim\n",
            "-=-=-=-=-=-=-=-=-=-=-=-=-=-=-=-=-=-=-=-=-=-=-=-=-=-=-=-=-=-=\n",
            "Qual o sexo da pessoa analisada: m\n",
            "O indivíduo analisado é do sexo \",MASCULINO\", portanto não se mede o beta-HCG\n",
            "-=-=-=-=-=-=-=-=-=-=-=-=-=-=-=-=-=-=-=-=-=-=-=-=-=-=-=-=-=-=\n",
            "Quer continuar com o teste? \n",
            "Digite SIM para continuar e NÃO para parar: não\n",
            "************************************************************\n",
            "FOI UM PRAZER ANALISAR!\n"
          ]
        }
      ],
      "source": [
        "from time import sleep\n",
        "sexo = 'M'\n",
        "beta_hcg = 0\n",
        "\n",
        "# seu código vem abaixo desta linha\n",
        "print( '-=' * 10, 'MÁQUINA DE ANÁLISE - TESTE DE GRAVIDEZ', '-=' * 10 )\n",
        "sleep(1)\n",
        "while True:\n",
        "    sexo = str( input( 'Qual o sexo da pessoa analisada: ' ) ).strip().upper()[0]\n",
        "    if sexo == 'M':\n",
        "        sleep( 1 )\n",
        "        print('O indivíduo analisado é do sexo \",MASCULINO\", portanto não se mede o beta-HCG')\n",
        "    sleep( 1 )\n",
        "\n",
        "    if sexo == 'F':\n",
        "        print( 'O indivíduo analisado é do sexo \",FEMININO\"' )\n",
        "        sleep( 1 )\n",
        "        print( 'Preciso saber qual foi o valor do teste beta-HCG' )\n",
        "        sleep( 1 )\n",
        "        print('-'*60)\n",
        "        sleep( 1 )\n",
        "        beta_hcg = int( input( 'Valor do teste beta-HCG(mUI/mL): ' ) )\n",
        "        if beta_hcg > 5:\n",
        "            sleep( 1 )\n",
        "            print( 'TESTE DEU POSITIVO!' )\n",
        "            sleep( 1 )\n",
        "            print( 'PARABÉNS! VOCÊ ESTÁ GRÁVIDA!' )\n",
        "        if beta_hcg <= 5:\n",
        "            print( 'TESTE DEU NEGATIVO' )\n",
        "            sleep( 1 )\n",
        "            print( 'VOCÊ NÃO ESTÁ GRÁVIDA' )\n",
        "    print('-='*30)\n",
        "    resp = str( input('Quer continuar com o teste? \\nDigite SIM para continuar e NÃO para parar: ' ) ).strip().upper()[\n",
        "        0]\n",
        "    sleep( 1 )\n",
        "    if resp == 'S':\n",
        "        print( '-=' * 30 )\n",
        "        continue\n",
        "    if resp == 'N':\n",
        "        break\n",
        "print('*' * 60)\n",
        "sleep(1)\n",
        "print( 'FOI UM PRAZER ANALISAR!' )"
      ]
    },
    {
      "cell_type": "markdown",
      "metadata": {
        "id": "MNFA8KtsmivS"
      },
      "source": [
        "### 02 - Renomeando variáveis\n",
        "\n",
        "Vamos ver adiante que uma forma de renomear variáveis de um conjunto de dados é através de dicionários - o dicionário deve conter como chave o nome original, associando a cada chave um único valor (tipo *str*) que contenha o nome novo.\n",
        "\n",
        "A sua tarefa é escrever um dicionário que possa ser utilizado para traduzir as variáveis ```name``` (nome), ```age``` (idade) e ```income``` (renda). Ou seja, esse dicionário deve relacionar as chaves *name, age* e *income* às suas respectivas traduções."
      ]
    },
    {
      "cell_type": "code",
      "execution_count": null,
      "metadata": {
        "colab": {
          "base_uri": "https://localhost:8080/"
        },
        "id": "zXkl58dRmivS",
        "outputId": "4d23f4f6-7f08-4d54-af19-8f68d3b5717b"
      },
      "outputs": [
        {
          "output_type": "stream",
          "name": "stdout",
          "text": [
            "Coloque a palavra que você quer traduzir: name\n",
            "A tradução da palavra name é nome\n"
          ]
        }
      ],
      "source": [
        "# Talvez não tenha entendido bem o que se pediu, mas fiz o que entendi\n",
        "\n",
        "dic_renomeacao = {'name': 'nome', 'age': 'idade', 'income':'renda'}\n",
        "dic_renomeacao\n",
        "sleep(1)\n",
        "traducao = str(input('Coloque a palavra que você quer traduzir: ')).strip().lower()\n",
        "print(f'A tradução da palavra {traducao} é {dic_renomeacao[traducao]}')"
      ]
    },
    {
      "cell_type": "markdown",
      "metadata": {
        "id": "jaQMHA02mivS"
      },
      "source": [
        "### 03 - É divisível?\n",
        "A sua tarefa é escrever um código que indique se um número ```N``` é divisível por um número P. Escreva um programa que faça essa verificação para quaisquer combinações de ```N``` e ```M``` e devolva uma mensagem indicativa no output."
      ]
    },
    {
      "cell_type": "code",
      "execution_count": null,
      "metadata": {
        "colab": {
          "base_uri": "https://localhost:8080/"
        },
        "id": "wUfzky3pmivT",
        "outputId": "0baea0dd-5660-436c-f6f6-a30d2a6a0947"
      },
      "outputs": [
        {
          "output_type": "stream",
          "name": "stdout",
          "text": [
            "Digite um número para o valor de \"M\": 2\n",
            "Digite um número para o valor de \"N\": 3\n",
            "Digite um número para o valor de \"P\": 2\n",
            "Os valores digitados foram:\n",
            "\"M\" = 2\n",
            "\"N\" = 3\n",
            "\"P\" = 2\n",
            "-=-=-=-=-=-=-=-=-=-=-=-=-=-=-=-=-=-=-=-=-=-=-=-=-=-=-=-=-=-=\n",
            "Agora digite uma combinação entre \"M\" e \"N\". Do jeito que você quiser: 32\n",
            "A combinação de números que você digitou \u001b[1;31mÉ DIVISÍVEL POR \"P\"\u001b[m\n"
          ]
        }
      ],
      "source": [
        "# Talvez não tenha entendido bem novamente. \n",
        "N = 42\n",
        "M = 7\n",
        "\n",
        "#Seu código\n",
        "M = int(input('Digite um número para o valor de \"M\": '))\n",
        "N = int(input('Digite um número para o valor de \"N\": '))\n",
        "P = int(input('Digite um número para o valor de \"P\": '))\n",
        "sleep(1)\n",
        "print(f'Os valores digitados foram:\\n\"M\" = {M}\\n\"N\" = {N}\\n\"P\" = {P}')\n",
        "sleep(1)\n",
        "print('-='*30)\n",
        "combinacao = int(input('Agora digite uma combinação entre \"M\" e \"N\". Do jeito que você quiser: '))\n",
        "if combinacao % P == 0:\n",
        "    print('A combinação de números que você digitou \\033[1;31mÉ DIVISÍVEL POR \"P\"\\033[m')\n",
        "else: \n",
        "    print('A combinação de número \\033[1;31mNÃO É DIVISÍVEL POR \"P\"\\033[m')"
      ]
    },
    {
      "cell_type": "markdown",
      "metadata": {
        "id": "O-t3jcOmmivT"
      },
      "source": [
        "### 04 - Números primos\n",
        "> Um número **N** é primo se e somente se é divisível por 1, -1, por **N** e por -**N**.  \n",
        "\n",
        "Escreva um script que verifica se ```N``` é um número primo, verificando se ```N``` é divisível por todos os números de ```1``` a ```N-1```. Você vai precisar usar alguma ferramenta de *loop* que você aprendeu para isto. No final, devolva uma mensagem no output indicando se o número é primo ou não."
      ]
    },
    {
      "cell_type": "code",
      "execution_count": null,
      "metadata": {
        "colab": {
          "base_uri": "https://localhost:8080/"
        },
        "id": "mXbeSyJymivT",
        "outputId": "49dc5598-2455-48a3-ee47-64aa757fbe74"
      },
      "outputs": [
        {
          "output_type": "stream",
          "name": "stdout",
          "text": [
            "Digite um número: 98\n",
            "O número 98 NÃO É PRIMO\n"
          ]
        }
      ],
      "source": [
        "N = 47\n",
        "\n",
        "# seu código abaixo\n",
        "\n",
        "num = int(input('Digite um número: '))\n",
        "contador = 0\n",
        "\n",
        "for c in range(1, num + 1):\n",
        "    if num % c == 0:\n",
        "        contador += 1\n",
        "\n",
        "# Para ser primo ele só pode ser divisível por um e por ele mesmo, então a contagem tem que ser 2\n",
        "if contador <= 2:\n",
        "    print('O número {} é PRIMO'.format(num))\n",
        "else:\n",
        "    print('O número {} NÃO É PRIMO'.format(num))"
      ]
    },
    {
      "cell_type": "markdown",
      "metadata": {
        "id": "0Se-lmpjmivT"
      },
      "source": [
        "### 05 - Desafio\n",
        "O algorítmo do exercício anterior não é o mais eficiente. O que você pode fazer para deixá-lo mais eficiente? Ou seja, executar menos comparações, portanto consumir menos tempo.\n",
        "1. Será que precisamos correr o loop até o final sempre?\n",
        "2. Será que precisamos mesmo verificar **todos** os números?\n",
        "3. Será que precisamos ir até N-1?\n",
        "\n",
        "Essas perguntas levam ao tipo de pensamento voltado a deixar um algoritmo mais eficiente. Veja se você consegue melhorar o seu."
      ]
    },
    {
      "cell_type": "code",
      "execution_count": null,
      "metadata": {
        "colab": {
          "base_uri": "https://localhost:8080/"
        },
        "id": "DiitBf4-mivT",
        "outputId": "5c5ec90f-703b-4bec-8643-ca3eae611f24"
      },
      "outputs": [
        {
          "output_type": "stream",
          "name": "stdout",
          "text": [
            "Digite um número: 98\n",
            "3\n",
            "O número 98 NÃO É PRIMO\n"
          ]
        }
      ],
      "source": [
        "N = 98\n",
        "\n",
        "# seu código aqui\n",
        "\n",
        "\n",
        "num = int(input('Digite um número: '))\n",
        "contador = 0\n",
        "\n",
        "for c in range(1, num + 1):\n",
        "    if num % c == 0:\n",
        "        contador += 1\n",
        "    if contador >= 3:\n",
        "        break\n",
        "\n",
        "# Prova que quando não é primo nãi esta contado mais do que 3\n",
        "print(contador)\n",
        "\n",
        "# Para o caso do número primo, ele precisa percorrer todo o laço para ter certeza\n",
        "if contador <= 2:\n",
        "    print('O número {} é PRIMO'.format(num))\n",
        "else:\n",
        "    print('O número {} NÃO É PRIMO'.format(num))\n",
        "\n",
        "    "
      ]
    },
    {
      "cell_type": "markdown",
      "metadata": {
        "id": "mrzhfup5mivU"
      },
      "source": [
        "### 06 - Peso ideal 1\n",
        "O IMC (índice de massa corpórea) é um indicador de saúde mais bem aceito que o peso. Ele é calculado como:\n",
        "\n",
        "$$ IMC = \\dfrac{peso}{altura^2}$$\n",
        "\n",
        "Segundo a OMS, valores *normais* são entre 18.5 e 24.9.\n",
        "\n",
        "Sua tarefa é encontrar o ponto médio dessa faixa.\n",
        "\n",
        "***Observação: Ponto médio é dado no conceito de distancia física, mas é possível achar a Média Aritmética***\n"
      ]
    },
    {
      "cell_type": "code",
      "execution_count": null,
      "metadata": {
        "id": "5FxFVRIpmivU",
        "outputId": "a6740a95-d5d2-4a63-98b4-0c30370f18d3",
        "colab": {
          "base_uri": "https://localhost:8080/"
        }
      },
      "outputs": [
        {
          "output_type": "stream",
          "name": "stdout",
          "text": [
            "21.7\n"
          ]
        }
      ],
      "source": [
        "# Ponto Médio (Média Aritmética)\n",
        "\n",
        "# (jeito simples) - imc_ideal = (18.5 + 24.9)/2\n",
        "\n",
        "imc_ideal = [18.5,24.9]\n",
        "print(mean(imc_ideal))\n"
      ]
    },
    {
      "cell_type": "markdown",
      "metadata": {
        "id": "26TJjKQomivV"
      },
      "source": [
        "### 07 - Peso ideal 2\n",
        "Recebendo um valor de altura, encontre o peso '*ideal*' dessa pessoa, que fornece o IMC encontrado acima"
      ]
    },
    {
      "cell_type": "code",
      "execution_count": null,
      "metadata": {
        "id": "6Se4ecUimivV",
        "outputId": "8debdb03-6ef6-460c-99fe-6065cd054c71",
        "colab": {
          "base_uri": "https://localhost:8080/"
        }
      },
      "outputs": [
        {
          "output_type": "stream",
          "name": "stdout",
          "text": [
            "O peso ideal para este caso específico é 62.71\n"
          ]
        }
      ],
      "source": [
        "altura = 1.70\n",
        "imc = 21.7\n",
        "# Seu código\n",
        "\n",
        "\n",
        "# imc = peso_ideal / altura**2\n",
        "peso_ideal = imc * (altura ** 2)\n",
        "print(f'O peso ideal para este caso específico é {peso_ideal:.2f}')"
      ]
    },
    {
      "cell_type": "markdown",
      "metadata": {
        "id": "h0vM6zUtmivV"
      },
      "source": [
        "### 08 - Peso ideal 3\n",
        "Dada uma lista contendo as alturas de pacientes, crie uma nova lista que contenha o peso '*ideal*' (que fornece o IMC calculado em **Peso ideal 1**) desses pacientes."
      ]
    },
    {
      "cell_type": "code",
      "execution_count": null,
      "metadata": {
        "id": "XG1ENB3imivV",
        "outputId": "5ff66c3a-2b3f-4e26-b2ed-4758894b543e",
        "colab": {
          "base_uri": "https://localhost:8080/"
        }
      },
      "outputs": [
        {
          "output_type": "execute_result",
          "data": {
            "text/plain": [
              "[82.51, 91.19, 62.71, 59.08]"
            ]
          },
          "metadata": {},
          "execution_count": 33
        }
      ],
      "source": [
        "lista_alturas = [1.95, 2.05, 1.70, 1.65]\n",
        "lista_peso_ideal = []\n",
        "\n",
        "# seu código\n",
        "\n",
        "imc = 21.7\n",
        "for c in lista_alturas:\n",
        "  lista_peso_ideal.append(round(imc * (c ** 2),2))\n",
        "\n",
        "\n",
        "lista_peso_ideal"
      ]
    },
    {
      "cell_type": "markdown",
      "metadata": {
        "id": "eIQheSA7mivV"
      },
      "source": [
        "### 09 - Peso ideal 4\n",
        "Dada uma lista de tuplas - cada elemento da lista é uma tupla contendo altura e peso de um paciente - crie uma nova lista com o IMC desses pacientes."
      ]
    },
    {
      "cell_type": "code",
      "execution_count": null,
      "metadata": {
        "id": "CFiWjCngmivV",
        "outputId": "a1b69339-bb2a-4b06-f26f-70c26b17ffda",
        "colab": {
          "base_uri": "https://localhost:8080/"
        }
      },
      "outputs": [
        {
          "output_type": "execute_result",
          "data": {
            "text/plain": [
              "[27.78, 27.55, 19.19]"
            ]
          },
          "metadata": {},
          "execution_count": 35
        }
      ],
      "source": [
        "altura_peso = [(1.80, 90), (1.65, 75), (1.91, 70)]\n",
        "\n",
        "imc = []\n",
        "\n",
        "# seu código\n",
        "\n",
        "for c in altura_peso:\n",
        "  imc.append(round(c[1]/c[0]**2,2))\n",
        "\n",
        "imc"
      ]
    },
    {
      "cell_type": "markdown",
      "metadata": {
        "id": "iGFU1s-AmivW"
      },
      "source": [
        "### 10 - Peso ideal 5\n",
        "Dada uma lista de **listas** - cada elemento da lista é uma **lista** contendo altura e peso de um paciente, adicione mais um elemento à lista de cada paciente contendo o IMC do paciente. Verifique também se é 'baixo', 'normal' ou 'alto' segundo os padrões da OMS em que normal é entre 18.5 e 24.9.\n",
        "\n",
        "Reflexão: por que no problema anterior temos que criar uma nova lista, e não podemos adicionar os dados de cada indivíduo à tupla?\n",
        "\n",
        "***RESPOSTA : Tuplas são imutáveis***"
      ]
    },
    {
      "cell_type": "code",
      "execution_count": 8,
      "metadata": {
        "id": "OO5RWh3XmivW",
        "outputId": "edc16389-a20c-43ca-db96-cc6a6c2d5f4e",
        "colab": {
          "base_uri": "https://localhost:8080/"
        }
      },
      "outputs": [
        {
          "output_type": "stream",
          "name": "stdout",
          "text": [
            "O paciente a posição 0 possui o IMC de: 27.78\n",
            "O paciente 0 está com SOBREPESO\n",
            "-=-=-=-=-=-=-=-=-=-=-=-=-=-=-=-=-=-=-=-=-=-=-=-=-=-=-=-=-=-=\n",
            "O paciente a posição 1 possui o IMC de: 27.55\n",
            "O paciente 1 está com SOBREPESO\n",
            "-=-=-=-=-=-=-=-=-=-=-=-=-=-=-=-=-=-=-=-=-=-=-=-=-=-=-=-=-=-=\n",
            "O paciente a posição 2 possui o IMC de: 19.19\n",
            "PARABÉNS O paciente 2 ESTÁ no peso ideal\n",
            "-=-=-=-=-=-=-=-=-=-=-=-=-=-=-=-=-=-=-=-=-=-=-=-=-=-=-=-=-=-=\n"
          ]
        },
        {
          "output_type": "execute_result",
          "data": {
            "text/plain": [
              "[[1.8, 90, 27.78], [1.65, 75, 27.55], [1.91, 70, 19.19]]"
            ]
          },
          "metadata": {},
          "execution_count": 8
        }
      ],
      "source": [
        "altura_peso = [[1.80, 90], [1.65, 75], [1.91, 70]]\n",
        "\n",
        "# seu código\n",
        "\n",
        "imc_ideal = []\n",
        "for pos, c in enumerate(altura_peso):\n",
        "  print(f'O paciente a posição {pos} possui o IMC de: {round(c[1]/c[0]**2,2)}')\n",
        "  imc = round(c[1]/c[0] ** 2, 2)\n",
        "  imc_ideal.append(imc)\n",
        "  \n",
        "  # De Acordo com a OMS (Organização Mundial de Saúde)\n",
        "  if imc < 18.5:\n",
        "    print(f'O paciente {pos} está ABAIXO do peso ideal')\n",
        "    print('-='* 30)\n",
        "  elif 18.5 <= imc < 25:\n",
        "    print(f'PARABÉNS O paciente {pos} ESTÁ no peso ideal')\n",
        "    print('-='* 30)\n",
        "  elif 25 <= imc < 30:\n",
        "    print(f'O paciente {pos} está com SOBREPESO')\n",
        "    print('-='* 30)\n",
        "  elif 30 <= imc < 40:\n",
        "    print(f'O paciente {pos} está OBESO')\n",
        "    print('-='* 30)\n",
        "  elif imc >= 40:\n",
        "    print(f'O paciente {pos} está com OBESIDADE MÓRBIDA')\n",
        "    print('-='* 30)\n",
        "\n",
        "for pos,c in enumerate(imc_ideal):\n",
        "  altura_peso[pos].append(c)\n",
        "\n",
        "\n",
        "altura_peso"
      ]
    }
  ],
  "metadata": {
    "kernelspec": {
      "display_name": "Python 3 (ipykernel)",
      "language": "python",
      "name": "python3"
    },
    "language_info": {
      "codemirror_mode": {
        "name": "ipython",
        "version": 3
      },
      "file_extension": ".py",
      "mimetype": "text/x-python",
      "name": "python",
      "nbconvert_exporter": "python",
      "pygments_lexer": "ipython3",
      "version": "3.9.12"
    },
    "colab": {
      "provenance": []
    }
  },
  "nbformat": 4,
  "nbformat_minor": 0
}